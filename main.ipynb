{
 "cells": [
  {
   "cell_type": "code",
   "execution_count": 241,
   "id": "4dae6688",
   "metadata": {},
   "outputs": [],
   "source": [
    "from pycelonis import get_celonis\n",
    "import smtplib\n",
    "from email.mime.multipart import MIMEMultipart\n",
    "from email.mime.text import MIMEText\n",
    "import configparser"
   ]
  },
  {
   "cell_type": "code",
   "execution_count": 242,
   "id": "749a9b15",
   "metadata": {},
   "outputs": [
    {
     "name": "stdout",
     "output_type": "stream",
     "text": [
      "2022-06-07 16:31:48 - pycelonis: Your PyCelonis Version 1.5.13 is outdated (Newest Version: 1.7.0). Please upgrade the package via: pip install --extra-index-url=https://pypi.celonis.cloud/ pycelonis --upgrade\n",
      "2022-06-07 16:31:48 - pycelonis: Login successful! You are using an Application Key.\n",
      "2022-06-07 16:31:48 - pycelonis: Your key has following permissions:\n",
      "[\n",
      "    {\n",
      "        \"permissions\": [\n",
      "            \"EDIT_ALL_SPACES\",\n",
      "            \"MANAGE_PERMISSIONS\",\n",
      "            \"CREATE_SPACE\",\n",
      "            \"DELETE_ALL_SPACES\"\n",
      "        ],\n",
      "        \"serviceName\": \"package-manager\"\n",
      "    },\n",
      "    {\n",
      "        \"permissions\": [\n",
      "            \"EDIT_AGENTS\",\n",
      "            \"VIEW_AGENTS\",\n",
      "            \"REGISTER_AGENTS\",\n",
      "            \"MANAGE_PERMISSIONS\"\n",
      "        ],\n",
      "        \"serviceName\": \"workflows\"\n",
      "    },\n",
      "    {\n",
      "        \"permissions\": [\n",
      "            \"EDIT_CLIENT_SETTINGS\",\n",
      "            \"EDIT_USERS\"\n",
      "        ],\n",
      "        \"serviceName\": \"task-mining\"\n",
      "    },\n",
      "    {\n",
      "        \"permissions\": [\n",
      "            \"MANAGE_SSO_SETTINGS\",\n",
      "            \"USE_AUDIT_LOGS_API\",\n",
      "            \"MANAGE_GENERAL_SETTINGS\",\n",
      "            \"MANAGE_GROUPS\",\n",
      "            \"MANAGE_APPLICATIONS\",\n",
      "            \"MANAGE_LICENSE_SETTINGS\",\n",
      "            \"USE_LOGIN_HISTORY_API\",\n",
      "            \"MANAGE_MEMBERS\",\n",
      "            \"MANAGE_UPLINK_INTEGRATIONS\",\n",
      "            \"MANAGE_PERMISSIONS\",\n",
      "            \"MANAGE_ADMIN_NOTIFICATIONS\",\n",
      "            \"IMPORT_MEMBERS\",\n",
      "            \"MANAGE_MEMBER_LOCKING_POLICY\"\n",
      "        ],\n",
      "        \"serviceName\": \"team\"\n",
      "    },\n",
      "    {\n",
      "        \"permissions\": [\n",
      "            \"CREATE_PROJECTS\",\n",
      "            \"MANAGE_SKILLS\",\n",
      "            \"ACCESS_ALL_PROJECTS\",\n",
      "            \"MY_INBOX\"\n",
      "        ],\n",
      "        \"serviceName\": \"action-engine\"\n",
      "    },\n",
      "    {\n",
      "        \"permissions\": [\n",
      "            \"CREATE_AND_MODIFY_CATEGORIES\",\n",
      "            \"USE_CATEGORIES\",\n",
      "            \"DELETE_EXISTING_CATEGORIES\",\n",
      "            \"MODIFY_EXISTING_CATEGORIES\"\n",
      "        ],\n",
      "        \"serviceName\": \"process-repository\"\n",
      "    },\n",
      "    {\n",
      "        \"permissions\": [\n",
      "            \"CREATE_WORKSPACE\",\n",
      "            \"MOVE_TO\",\n",
      "            \"DELETE_ALL_WORKSPACES\",\n",
      "            \"DELETE_ALL_ANALYSES\",\n",
      "            \"EDIT_ALL_ANALYSES\",\n",
      "            \"EDIT_ALL_WORKSPACES\",\n",
      "            \"USE_ALL_ANALYSES\",\n",
      "            \"CREATE_ANALYSES\",\n",
      "            \"MANAGE_PERMISSIONS\",\n",
      "            \"EXPORT_CONTENT\"\n",
      "        ],\n",
      "        \"serviceName\": \"process-analytics\"\n",
      "    },\n",
      "    {\n",
      "        \"permissions\": [\n",
      "            \"MOVE_TO\",\n",
      "            \"EDIT_OBJECTIVE\",\n",
      "            \"VIEW_OBJECTIVE\",\n",
      "            \"CREATE_OBJECTIVE\",\n",
      "            \"MANAGE_PERMISSIONS\",\n",
      "            \"CREATE_KPI\",\n",
      "            \"EXPORT_CONTENT\",\n",
      "            \"DELETE_OBJECTIVE\"\n",
      "        ],\n",
      "        \"serviceName\": \"transformation-center\"\n",
      "    },\n",
      "    {\n",
      "        \"permissions\": [\n",
      "            \"DELETE\",\n",
      "            \"CREATE\",\n",
      "            \"GET\",\n",
      "            \"ADMIN\",\n",
      "            \"LIST\"\n",
      "        ],\n",
      "        \"serviceName\": \"storage-manager\"\n",
      "    },\n",
      "    {\n",
      "        \"permissions\": [\n",
      "            \"USE_ALL_DATA_MODELS\",\n",
      "            \"EDIT_ALL_DATA_POOLS\",\n",
      "            \"CREATE_DATA_POOL\"\n",
      "        ],\n",
      "        \"serviceName\": \"event-collection\"\n",
      "    },\n",
      "    {\n",
      "        \"permissions\": [\n",
      "            \"DELETE_SCHEDULERS\",\n",
      "            \"EDIT_SCHEDULERS\",\n",
      "            \"USE_ALL_SCHEDULERS\",\n",
      "            \"USE_ALL_APPS\",\n",
      "            \"CREATE_SCHEDULERS\",\n",
      "            \"MANAGE_ALL_APPS\",\n",
      "            \"CREATE_WORKSPACES\",\n",
      "            \"MANAGE_SCHEDULERS_PERMISSIONS\",\n",
      "            \"VIEW_CONFIGURATION\",\n",
      "            \"CREATE_APPS\",\n",
      "            \"MANAGE_ALL_MLFLOWS\",\n",
      "            \"CREATE_MLFLOWS\",\n",
      "            \"USE_ALL_MLFLOWS\",\n",
      "            \"MANAGE_ALL_WORKSPACES\"\n",
      "        ],\n",
      "        \"serviceName\": \"ml-workbench\"\n",
      "    },\n",
      "    {\n",
      "        \"permissions\": [],\n",
      "        \"serviceName\": \"user-provisioning\"\n",
      "    }\n",
      "]\n"
     ]
    }
   ],
   "source": [
    "celonis = get_celonis(threaded=True)\n",
    "pools_ids = list(celonis.pools.ids.keys())\n",
    "pools_names = list(celonis.pools.names.keys())"
   ]
  },
  {
   "cell_type": "code",
   "execution_count": 243,
   "id": "ba6efb3a",
   "metadata": {},
   "outputs": [],
   "source": [
    "def get_name(dictionary):\n",
    "    if dictionary['status'] == 'FAIL':\n",
    "        return dictionary['id']\n",
    "    return None\n",
    "\n",
    "def get_jobs_failed():\n",
    "    data_dict = {}\n",
    "    for pool in pools_ids:\n",
    "        a = celonis.pools.find(pool)    \n",
    "        if not data_dict.get(a.name):\n",
    "            data_dict[a.name] = []\n",
    "        failed_list = list(filter(None,list(map(get_name,a.check_data_job_execution_status()))))\n",
    "        for fail in failed_list:\n",
    "            data_dict[a.name].append(a.data_jobs.find(fail).name)\n",
    "    data_dict_1 = {k:v for k,v in data_dict.items() if len(v)>0}\n",
    "    return data_dict_1"
   ]
  },
  {
   "cell_type": "code",
   "execution_count": 244,
   "id": "6221ed30",
   "metadata": {},
   "outputs": [],
   "source": [
    "def get_name_status(tuple_dict):    \n",
    "    return {tuple_dict[0]['name']:tuple_dict[1]['status']}\n",
    "def get_jobs_status_by_pool_name(pool_name):\n",
    "    try:\n",
    "        b = celonis.pools.find(pool_name)         \n",
    "    except NameError:        \n",
    "        return pool_name\n",
    "        \n",
    "    ac = [{k:v} for k,v in zip(['name','name'],b.data_jobs.names.keys())]    \n",
    "    aa = list(zip(ac,b.check_data_job_execution_status()))    \n",
    "    \n",
    "    res1 = {pool_name : list(map(get_name_status,aa))}\n",
    "    if res1[pool_name] != []:\n",
    "        return res1\n",
    "    else:\n",
    "        return '666'+pool_name"
   ]
  },
  {
   "cell_type": "code",
   "execution_count": 245,
   "id": "315d246e",
   "metadata": {},
   "outputs": [],
   "source": [
    "def get_job_status_by_job_name(name):\n",
    "    for pool in pools_names:\n",
    "        b = celonis.pools.find(pool) \n",
    "        names = b.data_jobs.names  \n",
    "        if name in names.keys():\n",
    "            statuses = b.check_data_job_execution_status()\n",
    "            idx = names[name].id\n",
    "            for status in statuses:\n",
    "                if status['id'] == idx:\n",
    "                    return {name:status['status']}        \n",
    "        return name"
   ]
  },
  {
   "cell_type": "code",
   "execution_count": 246,
   "id": "46ade658",
   "metadata": {},
   "outputs": [
    {
     "data": {
      "text/plain": [
       "['main.conf']"
      ]
     },
     "execution_count": 246,
     "metadata": {},
     "output_type": "execute_result"
    }
   ],
   "source": [
    "config = configparser.ConfigParser()\n",
    "config.read('main.conf')"
   ]
  },
  {
   "cell_type": "code",
   "execution_count": 247,
   "id": "31ffc3c6",
   "metadata": {},
   "outputs": [
    {
     "data": {
      "text/plain": [
       "['666Test fot Python', 'Test for Python']"
      ]
     },
     "execution_count": 247,
     "metadata": {},
     "output_type": "execute_result"
    }
   ],
   "source": [
    "jobs_by_pool = config['EMAIL']['get_jobs_by_pool_name'].split(',')\n",
    "jobs_by_pool = list(map(str.strip,jobs_by_pool))\n",
    "if jobs_by_pool != ['']:\n",
    "    jobs_by_pool = list(map(get_jobs_status_by_pool_name,jobs_by_pool))\n",
    "    jobs_by_pool_in = list(filter(lambda x: isinstance(x,dict),jobs_by_pool))\n",
    "    jobs_by_pool_out = list(filter(lambda x: isinstance(x,str),jobs_by_pool))\n",
    "length_jobs_by_pool = sum(list(map(len,jobs_by_pool)))*len(jobs_by_pool)\n",
    "jobs_by_pool_out "
   ]
  },
  {
   "cell_type": "code",
   "execution_count": 248,
   "id": "683b5f6a",
   "metadata": {},
   "outputs": [
    {
     "data": {
      "text/plain": [
       "[{'First job': 'RUNNING'}, {'P2P Tasks Templates': 'SUCCESS'}]"
      ]
     },
     "execution_count": 248,
     "metadata": {},
     "output_type": "execute_result"
    }
   ],
   "source": [
    "jobs_by_name = config['EMAIL']['get_job_status_by_job_name'].split(',')\n",
    "jobs_by_name = list(map(str.strip,jobs_by_name))\n",
    "if jobs_by_name != ['']:\n",
    "    jobs_by_name = list(map(get_job_status_by_job_name,jobs_by_name))\n",
    "    jobs_by_name_in = list(filter(lambda x: isinstance(x,dict),jobs_by_name))\n",
    "    jobs_by_name_out = list(filter(lambda x: isinstance(x,str),jobs_by_name))\n",
    "length_jobs_by_name = sum(list(map(len,jobs_by_name)))*len(jobs_by_name)\n",
    "jobs_by_name_in"
   ]
  },
  {
   "cell_type": "code",
   "execution_count": 249,
   "id": "7113246a",
   "metadata": {},
   "outputs": [
    {
     "data": {
      "text/plain": [
       "{}"
      ]
     },
     "execution_count": 249,
     "metadata": {},
     "output_type": "execute_result"
    }
   ],
   "source": [
    "failed_jobs = get_jobs_failed()\n",
    "failed_jobs"
   ]
  },
  {
   "cell_type": "code",
   "execution_count": 250,
   "id": "ba8a29a1",
   "metadata": {},
   "outputs": [],
   "source": [
    "smtp_server = config['EMAIL']['host_server']\n",
    "port = int(config['EMAIL']['host_port'])\n",
    "sender_email = config['EMAIL']['sender_email']\n",
    "sender_password = config['EMAIL']['sender_password']\n",
    "receiver_email = config['EMAIL']['receiver_email']\n",
    "failed_jobs_string = config['EMAIL']['failed_jobs_string']\n",
    "jobs_by_pool_string = config['EMAIL']['jobs_by_pool_string']\n",
    "jobs_by_name_string = config['EMAIL']['jobs_by_name_string']\n",
    "hello = config['EMAIL']['hello']"
   ]
  },
  {
   "cell_type": "code",
   "execution_count": 251,
   "id": "919a970a",
   "metadata": {},
   "outputs": [],
   "source": [
    "def create_failed_output(string, dictionary):\n",
    "    result = ''\n",
    "    for k, v in dictionary.items():             \n",
    "        result+= string.format(\", \".join(v),k)        \n",
    "    return result"
   ]
  },
  {
   "cell_type": "code",
   "execution_count": 252,
   "id": "dddb2436",
   "metadata": {},
   "outputs": [],
   "source": [
    "jobs_failed = create_failed_output(failed_jobs_string, failed_jobs)"
   ]
  },
  {
   "cell_type": "code",
   "execution_count": 253,
   "id": "a0c11a39",
   "metadata": {},
   "outputs": [],
   "source": [
    "def jobs_by_name_output(string,list_of_dicts):    \n",
    "    string+='<ul>'\n",
    "    for job in list_of_dicts:\n",
    "        key = list(job.keys())[0]\n",
    "        string+= f'<li>{key} : {job[key]} </li>'\n",
    "    string+='</ul></p>'\n",
    "    return string"
   ]
  },
  {
   "cell_type": "code",
   "execution_count": 254,
   "id": "c1c409cf",
   "metadata": {},
   "outputs": [],
   "source": [
    "def jobs_by_pool_output(string, list_of_dicts):\n",
    "    result = ''\n",
    "    for element in list_of_dicts:\n",
    "        for k, v in element.items():  \n",
    "            result+= string.format(k)\n",
    "            result=jobs_by_name_output(result,v)\n",
    "            #for dicti in v:\n",
    "             #   key = list(dicti.keys())[0]\n",
    "              #  result+=f'<li>{key} : {dicti[key]} </li>'\n",
    "            #result+='</ul></p>'\n",
    "    return result    "
   ]
  },
  {
   "cell_type": "code",
   "execution_count": 255,
   "id": "69255398",
   "metadata": {},
   "outputs": [],
   "source": [
    "jobs_in_pools = jobs_by_pool_output(jobs_by_pool_string,jobs_by_pool_in)"
   ]
  },
  {
   "cell_type": "code",
   "execution_count": 256,
   "id": "980dbcba",
   "metadata": {},
   "outputs": [],
   "source": [
    "jobs_by_names = jobs_by_name_output(jobs_by_name_string,jobs_by_name_in)"
   ]
  },
  {
   "cell_type": "code",
   "execution_count": 257,
   "id": "5a0564de",
   "metadata": {},
   "outputs": [],
   "source": [
    "def pools_not_in (list_of_strings):\n",
    "    result = ''\n",
    "    for string in list_of_strings:\n",
    "        if string.startswith('666'):\n",
    "            result1 = '<p>Data Pool <b>{}</b> is not exisitng</p>'\n",
    "            result+=result1.format(string[3:])\n",
    "        else:\n",
    "            result1 = '<p>Data Pool <b>{}</b> does not have exisitng Data Jobs</p>'\n",
    "            result+=result1.format(string)\n",
    "    return result"
   ]
  },
  {
   "cell_type": "code",
   "execution_count": 258,
   "id": "5020f64e",
   "metadata": {},
   "outputs": [],
   "source": [
    "def jobs_not_in (list_of_strings):\n",
    "    result = ''\n",
    "    for string in list_of_strings:        \n",
    "        result1 = '<p>Data Job <b>{}</b> is not exisitng</p>'\n",
    "        result+=result1.format(string)        \n",
    "    return result"
   ]
  },
  {
   "cell_type": "code",
   "execution_count": 259,
   "id": "3993a8c1",
   "metadata": {},
   "outputs": [],
   "source": [
    "pools_not = pools_not_in(jobs_by_pool_out)"
   ]
  },
  {
   "cell_type": "code",
   "execution_count": 260,
   "id": "39c30f5e",
   "metadata": {},
   "outputs": [],
   "source": [
    "jobs_not = jobs_not_in(jobs_by_name_out)"
   ]
  },
  {
   "cell_type": "code",
   "execution_count": 261,
   "id": "d103b0b5",
   "metadata": {},
   "outputs": [
    {
     "data": {
      "text/plain": [
       "'Hello, please check your status and data jobs requests below\\n\\n<p>You have next jobs in data pool <b>Get Data into the EMS Training - P2P (1)</b></p><ul><li>First job : RUNNING </li><li>P2P Tasks Templates : SUCCESS </li></ul></p>\\n<p>Data Pool <b>Test fot Python</b> is not exisitng</p><p>Data Pool <b>Test for Python</b> does not have exisitng Data Jobs</p>\\n<p>You have statuses of jobs</p><ul><li>First job : RUNNING </li><li>P2P Tasks Templates : SUCCESS </li></ul></p>\\n<p>Data Job <b>aa</b> is not exisitng</p>'"
      ]
     },
     "execution_count": 261,
     "metadata": {},
     "output_type": "execute_result"
    }
   ],
   "source": [
    "hello = 'Hello, please check your status and data jobs requests below'\n",
    "mail_content = ('\\n').join((hello, jobs_failed, jobs_in_pools, pools_not, jobs_by_names, jobs_not))\n",
    "mail_content"
   ]
  },
  {
   "cell_type": "code",
   "execution_count": 262,
   "id": "b6f540ac",
   "metadata": {},
   "outputs": [],
   "source": [
    "message = MIMEMultipart()\n",
    "message['From'] = sender_email\n",
    "message['To'] = receiver_email\n",
    "message['Subject'] = hello = config['EMAIL']['subject']   \n",
    "message.attach(MIMEText(mail_content, 'html'))"
   ]
  },
  {
   "cell_type": "code",
   "execution_count": 263,
   "id": "78d9e8db",
   "metadata": {},
   "outputs": [],
   "source": [
    "def send_email():\n",
    "    session = smtplib.SMTP(smtp_server, port) \n",
    "    session.starttls() \n",
    "    session.login(sender_email, sender_password) \n",
    "    text = message.as_string()\n",
    "    session.sendmail(sender_email, receiver_email, text)\n",
    "    session.quit()"
   ]
  },
  {
   "cell_type": "code",
   "execution_count": 264,
   "id": "58dc089a",
   "metadata": {},
   "outputs": [
    {
     "ename": "SMTPAuthenticationError",
     "evalue": "(535, b'5.7.8 Username and Password not accepted. Learn more at\\n5.7.8  https://support.google.com/mail/?p=BadCredentials f6-20020a05600c4e8600b0039466988f6csm30949805wmq.31 - gsmtp')",
     "output_type": "error",
     "traceback": [
      "\u001b[0;31m---------------------------------------------------------------------------\u001b[0m",
      "\u001b[0;31mSMTPAuthenticationError\u001b[0m                   Traceback (most recent call last)",
      "Input \u001b[0;32mIn [264]\u001b[0m, in \u001b[0;36m<cell line: 1>\u001b[0;34m()\u001b[0m\n\u001b[1;32m      1\u001b[0m \u001b[38;5;28;01mif\u001b[39;00m failed_jobs \u001b[38;5;241m!=\u001b[39m \u001b[38;5;124m'\u001b[39m\u001b[38;5;124m'\u001b[39m \u001b[38;5;129;01mor\u001b[39;00m jobs_by_pool_string \u001b[38;5;241m!=\u001b[39m \u001b[38;5;124m'\u001b[39m\u001b[38;5;124m'\u001b[39m \u001b[38;5;129;01mor\u001b[39;00m jobs_by_name_string \u001b[38;5;241m!=\u001b[39m \u001b[38;5;124m'\u001b[39m\u001b[38;5;124m'\u001b[39m:\n\u001b[0;32m----> 2\u001b[0m     \u001b[43msend_email\u001b[49m\u001b[43m(\u001b[49m\u001b[43m)\u001b[49m\n",
      "Input \u001b[0;32mIn [263]\u001b[0m, in \u001b[0;36msend_email\u001b[0;34m()\u001b[0m\n\u001b[1;32m      2\u001b[0m session \u001b[38;5;241m=\u001b[39m smtplib\u001b[38;5;241m.\u001b[39mSMTP(smtp_server, port) \n\u001b[1;32m      3\u001b[0m session\u001b[38;5;241m.\u001b[39mstarttls() \n\u001b[0;32m----> 4\u001b[0m \u001b[43msession\u001b[49m\u001b[38;5;241;43m.\u001b[39;49m\u001b[43mlogin\u001b[49m\u001b[43m(\u001b[49m\u001b[43msender_email\u001b[49m\u001b[43m,\u001b[49m\u001b[43m \u001b[49m\u001b[43msender_password\u001b[49m\u001b[43m)\u001b[49m \n\u001b[1;32m      5\u001b[0m text \u001b[38;5;241m=\u001b[39m message\u001b[38;5;241m.\u001b[39mas_string()\n\u001b[1;32m      6\u001b[0m session\u001b[38;5;241m.\u001b[39msendmail(sender_email, receiver_email, text)\n",
      "File \u001b[0;32m/opt/conda/lib/python3.8/smtplib.py:734\u001b[0m, in \u001b[0;36mSMTP.login\u001b[0;34m(self, user, password, initial_response_ok)\u001b[0m\n\u001b[1;32m    731\u001b[0m         last_exception \u001b[38;5;241m=\u001b[39m e\n\u001b[1;32m    733\u001b[0m \u001b[38;5;66;03m# We could not login successfully.  Return result of last attempt.\u001b[39;00m\n\u001b[0;32m--> 734\u001b[0m \u001b[38;5;28;01mraise\u001b[39;00m last_exception\n",
      "File \u001b[0;32m/opt/conda/lib/python3.8/smtplib.py:723\u001b[0m, in \u001b[0;36mSMTP.login\u001b[0;34m(self, user, password, initial_response_ok)\u001b[0m\n\u001b[1;32m    721\u001b[0m method_name \u001b[38;5;241m=\u001b[39m \u001b[38;5;124m'\u001b[39m\u001b[38;5;124mauth_\u001b[39m\u001b[38;5;124m'\u001b[39m \u001b[38;5;241m+\u001b[39m authmethod\u001b[38;5;241m.\u001b[39mlower()\u001b[38;5;241m.\u001b[39mreplace(\u001b[38;5;124m'\u001b[39m\u001b[38;5;124m-\u001b[39m\u001b[38;5;124m'\u001b[39m, \u001b[38;5;124m'\u001b[39m\u001b[38;5;124m_\u001b[39m\u001b[38;5;124m'\u001b[39m)\n\u001b[1;32m    722\u001b[0m \u001b[38;5;28;01mtry\u001b[39;00m:\n\u001b[0;32m--> 723\u001b[0m     (code, resp) \u001b[38;5;241m=\u001b[39m \u001b[38;5;28;43mself\u001b[39;49m\u001b[38;5;241;43m.\u001b[39;49m\u001b[43mauth\u001b[49m\u001b[43m(\u001b[49m\n\u001b[1;32m    724\u001b[0m \u001b[43m        \u001b[49m\u001b[43mauthmethod\u001b[49m\u001b[43m,\u001b[49m\u001b[43m \u001b[49m\u001b[38;5;28;43mgetattr\u001b[39;49m\u001b[43m(\u001b[49m\u001b[38;5;28;43mself\u001b[39;49m\u001b[43m,\u001b[49m\u001b[43m \u001b[49m\u001b[43mmethod_name\u001b[49m\u001b[43m)\u001b[49m\u001b[43m,\u001b[49m\n\u001b[1;32m    725\u001b[0m \u001b[43m        \u001b[49m\u001b[43minitial_response_ok\u001b[49m\u001b[38;5;241;43m=\u001b[39;49m\u001b[43minitial_response_ok\u001b[49m\u001b[43m)\u001b[49m\n\u001b[1;32m    726\u001b[0m     \u001b[38;5;66;03m# 235 == 'Authentication successful'\u001b[39;00m\n\u001b[1;32m    727\u001b[0m     \u001b[38;5;66;03m# 503 == 'Error: already authenticated'\u001b[39;00m\n\u001b[1;32m    728\u001b[0m     \u001b[38;5;28;01mif\u001b[39;00m code \u001b[38;5;129;01min\u001b[39;00m (\u001b[38;5;241m235\u001b[39m, \u001b[38;5;241m503\u001b[39m):\n",
      "File \u001b[0;32m/opt/conda/lib/python3.8/smtplib.py:646\u001b[0m, in \u001b[0;36mSMTP.auth\u001b[0;34m(self, mechanism, authobject, initial_response_ok)\u001b[0m\n\u001b[1;32m    644\u001b[0m \u001b[38;5;28;01mif\u001b[39;00m code \u001b[38;5;129;01min\u001b[39;00m (\u001b[38;5;241m235\u001b[39m, \u001b[38;5;241m503\u001b[39m):\n\u001b[1;32m    645\u001b[0m     \u001b[38;5;28;01mreturn\u001b[39;00m (code, resp)\n\u001b[0;32m--> 646\u001b[0m \u001b[38;5;28;01mraise\u001b[39;00m SMTPAuthenticationError(code, resp)\n",
      "\u001b[0;31mSMTPAuthenticationError\u001b[0m: (535, b'5.7.8 Username and Password not accepted. Learn more at\\n5.7.8  https://support.google.com/mail/?p=BadCredentials f6-20020a05600c4e8600b0039466988f6csm30949805wmq.31 - gsmtp')"
     ]
    }
   ],
   "source": [
    "if failed_jobs != '' or jobs_by_pool_string != '' or jobs_by_name_string != '':\n",
    "    send_email()"
   ]
  }
 ],
 "metadata": {
  "kernelspec": {
   "display_name": "Python 3 (ipykernel)",
   "language": "python",
   "name": "python3"
  },
  "language_info": {
   "codemirror_mode": {
    "name": "ipython",
    "version": 3
   },
   "file_extension": ".py",
   "mimetype": "text/x-python",
   "name": "python",
   "nbconvert_exporter": "python",
   "pygments_lexer": "ipython3",
   "version": "3.8.6"
  },
  "toc-autonumbering": true,
  "toc-showcode": true,
  "toc-showmarkdowntxt": true
 },
 "nbformat": 4,
 "nbformat_minor": 5
}
